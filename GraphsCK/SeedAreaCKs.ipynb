{
 "cells": [
  {
   "cell_type": "code",
   "execution_count": 1,
   "metadata": {},
   "outputs": [],
   "source": [
    "import numpy as np\n",
    "import pandas as pd\n",
    "import seaborn as sns\n",
    "from scipy import stats\n",
    "import glob\n",
    "import scipy.stats as st\n",
    "import matplotlib.pyplot as plt\n",
    "from matplotlib.colors import LogNorm\n",
    "from scipy.stats import ttest_ind\n",
    "from statannot import add_stat_annotation\n",
    "import scipy.stats as sp"
   ]
  },
  {
   "cell_type": "code",
   "execution_count": 2,
   "metadata": {},
   "outputs": [],
   "source": [
    "df = pd.read_excel('SeedArea2024.xlsx',sep='\\t') #load dataset "
   ]
  },
  {
   "cell_type": "code",
   "execution_count": 3,
   "metadata": {},
   "outputs": [
    {
     "data": {
      "text/html": [
       "<div>\n",
       "<style scoped>\n",
       "    .dataframe tbody tr th:only-of-type {\n",
       "        vertical-align: middle;\n",
       "    }\n",
       "\n",
       "    .dataframe tbody tr th {\n",
       "        vertical-align: top;\n",
       "    }\n",
       "\n",
       "    .dataframe thead th {\n",
       "        text-align: right;\n",
       "    }\n",
       "</style>\n",
       "<table border=\"1\" class=\"dataframe\">\n",
       "  <thead>\n",
       "    <tr style=\"text-align: right;\">\n",
       "      <th></th>\n",
       "      <th>genotype</th>\n",
       "      <th>days</th>\n",
       "      <th>seed area</th>\n",
       "    </tr>\n",
       "  </thead>\n",
       "  <tbody>\n",
       "    <tr>\n",
       "      <th>0</th>\n",
       "      <td>wildtype</td>\n",
       "      <td>four</td>\n",
       "      <td>64989.608</td>\n",
       "    </tr>\n",
       "    <tr>\n",
       "      <th>1</th>\n",
       "      <td>wildtype</td>\n",
       "      <td>four</td>\n",
       "      <td>64970.385</td>\n",
       "    </tr>\n",
       "    <tr>\n",
       "      <th>2</th>\n",
       "      <td>wildtype</td>\n",
       "      <td>four</td>\n",
       "      <td>72572.251</td>\n",
       "    </tr>\n",
       "    <tr>\n",
       "      <th>3</th>\n",
       "      <td>wildtype</td>\n",
       "      <td>four</td>\n",
       "      <td>71438.616</td>\n",
       "    </tr>\n",
       "    <tr>\n",
       "      <th>4</th>\n",
       "      <td>wildtype</td>\n",
       "      <td>four</td>\n",
       "      <td>70183.518</td>\n",
       "    </tr>\n",
       "  </tbody>\n",
       "</table>\n",
       "</div>"
      ],
      "text/plain": [
       "   genotype   days  seed area\n",
       "0  wildtype  four   64989.608\n",
       "1  wildtype  four   64970.385\n",
       "2  wildtype  four   72572.251\n",
       "3  wildtype  four   71438.616\n",
       "4  wildtype  four   70183.518"
      ]
     },
     "execution_count": 3,
     "metadata": {},
     "output_type": "execute_result"
    }
   ],
   "source": [
    "df.head()"
   ]
  },
  {
   "cell_type": "code",
   "execution_count": 7,
   "metadata": {},
   "outputs": [
    {
     "name": "stdout",
     "output_type": "stream",
     "text": [
      "p-value annotation legend:\n",
      "ns: 5.00e-02 < p <= 1.00e+00\n",
      "*: 1.00e-02 < p <= 5.00e-02\n",
      "**: 1.00e-03 < p <= 1.00e-02\n",
      "***: 1.00e-04 < p <= 1.00e-03\n",
      "****: p <= 1.00e-04\n",
      "\n",
      "four _wildtype v.s. four _ahk2: t-test independent samples with Bonferroni correction, P_val=4.407e-18 stat=1.832e+01\n",
      "six_wildtype v.s. six_ahk2: t-test independent samples with Bonferroni correction, P_val=1.391e-02 stat=-3.265e+00\n",
      "four _wildtype v.s. four _ahk3: t-test independent samples with Bonferroni correction, P_val=2.335e-10 stat=9.653e+00\n",
      "six_wildtype v.s. six_ahk3: t-test independent samples with Bonferroni correction, P_val=2.582e-02 stat=-3.037e+00\n",
      "four _wildtype v.s. four _ahk4: t-test independent samples with Bonferroni correction, P_val=1.535e-03 stat=4.033e+00\n",
      "six_wildtype v.s. six_ahk4: t-test independent samples with Bonferroni correction, P_val=2.370e-02 stat=-3.069e+00\n"
     ]
    },
    {
     "data": {
      "image/png": "[encoded data removed]",
      "text/plain": [
       "<Figure size 432x288 with 1 Axes>"
      ]
     },
     "metadata": {
      "needs_background": "light"
     },
     "output_type": "display_data"
    }
   ],
   "source": [
    "#boxplots to calculate t-test \n",
    "\n",
    "#my_colors = {'2xX2x': '#0072B2', '2xX4x': '#FF7F0E', '4xX2x': 'FFF80E'}\n",
    "\n",
    "xvalues = [\"wildtype\", \"ahk2\", \"ahk3\", \"ahk4\"]\n",
    "palette = ['#000000', '#0072B2', '#FF7F0E', '#ffd343']\n",
    "\n",
    "ax = sns.boxplot(x=\"days\", y=\"seed area\", hue=\"genotype\", palette=palette,              \n",
    "data=df).set_title('Seed size')\n",
    "ax = sns.stripplot(x=\"days\", y=\"seed area\", dodge=True,\n",
    "              data=df, \n",
    "              hue=\"genotype\",\n",
    "              marker='o', \n",
    "              palette=palette,\n",
    "              alpha=0.5)\n",
    "\n",
    "add_stat_annotation(ax, data=df, x=\"days\", y=\"seed area\", hue=\"genotype\", #To add a t-test\n",
    "                    box_pairs=[((\"four \", \"wildtype\"), (\"four \", \"ahk2\")),\n",
    "                             ((\"four \", \"wildtype\"), (\"four \", \"ahk3\")),\n",
    "                             ((\"four \" , \"wildtype\"), (\"four \", \"ahk4\")),\n",
    "                             ((\"six\", \"wildtype\"), (\"six\", \"ahk2\")),\n",
    "                             ((\"six\", \"wildtype\"), (\"six\", \"ahk3\")),\n",
    "                             ((\"six\", \"wildtype\"), (\"six\", \"ahk4\")),], \n",
    "                    test='t-test_ind', text_format='star', loc='inside', verbose=2)\n",
    "\n",
    "#place the lengend outside on the topleft \n",
    "handles, labels = ax.get_legend_handles_labels()\n",
    "plt.legend(handles[0:4], labels[0:4], bbox_to_anchor=(1.01, 1), loc=2, borderaxespad=0.)\n",
    "\n",
    "ax.figure.savefig(\"boxplot-SeedSizeCK.png\", dpi=300, bbox_inches='tight')"
   ]
  },
  {
   "cell_type": "code",
   "execution_count": null,
   "metadata": {},
   "outputs": [],
   "source": []
  },
  {
   "cell_type": "code",
   "execution_count": null,
   "metadata": {},
   "outputs": [],
   "source": []
  },
  {
   "cell_type": "code",
   "execution_count": null,
   "metadata": {},
   "outputs": [],
   "source": []
  },
  {
   "cell_type": "code",
   "execution_count": null,
   "metadata": {},
   "outputs": [],
   "source": []
  }
 ],
 "metadata": {
  "kernelspec": {
   "display_name": "Python 3",
   "language": "python",
   "name": "python3"
  },
  "language_info": {
   "codemirror_mode": {
    "name": "ipython",
    "version": 3
   },
   "file_extension": ".py",
   "mimetype": "text/x-python",
   "name": "python",
   "nbconvert_exporter": "python",
   "pygments_lexer": "ipython3",
   "version": "3.7.6"
  }
 },
 "nbformat": 4,
 "nbformat_minor": 4
}
