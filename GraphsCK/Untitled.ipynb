{
 "cells": [
  {
   "cell_type": "code",
   "execution_count": 1,
   "metadata": {},
   "outputs": [],
   "source": [
    "import numpy as np\n",
    "import pandas as pd\n",
    "import seaborn as sns\n",
    "from scipy import stats\n",
    "import glob\n",
    "import scipy.stats as st\n",
    "import matplotlib.pyplot as plt\n",
    "import scipy.stats as sp\n",
    "from matplotlib.colors import LogNorm\n",
    "from scipy.stats import ttest_ind\n",
    "from statannot import add_stat_annotation"
   ]
  },
  {
   "cell_type": "code",
   "execution_count": 2,
   "metadata": {},
   "outputs": [],
   "source": [
    "#pip install statannot"
   ]
  },
  {
   "cell_type": "code",
   "execution_count": 3,
   "metadata": {},
   "outputs": [],
   "source": [
    "df = pd.read_excel('SeedArea2.xlsx',sep='\\t') #load dataset "
   ]
  },
  {
   "cell_type": "code",
   "execution_count": 4,
   "metadata": {},
   "outputs": [
    {
     "data": {
      "text/html": [
       "<div>\n",
       "<style scoped>\n",
       "    .dataframe tbody tr th:only-of-type {\n",
       "        vertical-align: middle;\n",
       "    }\n",
       "\n",
       "    .dataframe tbody tr th {\n",
       "        vertical-align: top;\n",
       "    }\n",
       "\n",
       "    .dataframe thead th {\n",
       "        text-align: right;\n",
       "    }\n",
       "</style>\n",
       "<table border=\"1\" class=\"dataframe\">\n",
       "  <thead>\n",
       "    <tr style=\"text-align: right;\">\n",
       "      <th></th>\n",
       "      <th>wt</th>\n",
       "      <th>ahk2</th>\n",
       "      <th>ahk3</th>\n",
       "      <th>ahk4</th>\n",
       "    </tr>\n",
       "  </thead>\n",
       "  <tbody>\n",
       "    <tr>\n",
       "      <th>0</th>\n",
       "      <td>0.136</td>\n",
       "      <td>0.347</td>\n",
       "      <td>0.278</td>\n",
       "      <td>0.324</td>\n",
       "    </tr>\n",
       "    <tr>\n",
       "      <th>1</th>\n",
       "      <td>0.109</td>\n",
       "      <td>0.284</td>\n",
       "      <td>0.288</td>\n",
       "      <td>0.290</td>\n",
       "    </tr>\n",
       "    <tr>\n",
       "      <th>2</th>\n",
       "      <td>0.108</td>\n",
       "      <td>0.341</td>\n",
       "      <td>0.266</td>\n",
       "      <td>0.293</td>\n",
       "    </tr>\n",
       "    <tr>\n",
       "      <th>3</th>\n",
       "      <td>0.115</td>\n",
       "      <td>0.274</td>\n",
       "      <td>0.358</td>\n",
       "      <td>0.281</td>\n",
       "    </tr>\n",
       "    <tr>\n",
       "      <th>4</th>\n",
       "      <td>0.118</td>\n",
       "      <td>0.267</td>\n",
       "      <td>0.323</td>\n",
       "      <td>0.249</td>\n",
       "    </tr>\n",
       "  </tbody>\n",
       "</table>\n",
       "</div>"
      ],
      "text/plain": [
       "      wt   ahk2   ahk3   ahk4\n",
       "0  0.136  0.347  0.278  0.324\n",
       "1  0.109  0.284  0.288  0.290\n",
       "2  0.108  0.341  0.266  0.293\n",
       "3  0.115  0.274  0.358  0.281\n",
       "4  0.118  0.267  0.323  0.249"
      ]
     },
     "execution_count": 4,
     "metadata": {},
     "output_type": "execute_result"
    }
   ],
   "source": [
    "df.head()"
   ]
  },
  {
   "cell_type": "code",
   "execution_count": 11,
   "metadata": {},
   "outputs": [
    {
     "name": "stdout",
     "output_type": "stream",
     "text": [
      "p-value annotation legend:\n",
      "ns: 5.00e-02 < p <= 1.00e+00\n",
      "*: 1.00e-02 < p <= 5.00e-02\n",
      "**: 1.00e-03 < p <= 1.00e-02\n",
      "***: 1.00e-04 < p <= 1.00e-03\n",
      "****: p <= 1.00e-04\n",
      "\n",
      "wt v.s. ahk2: t-test independent samples with Bonferroni correction, P_val=4.524e-186 stat=-5.365e+01\n",
      "ahk3 v.s. ahk4: t-test independent samples with Bonferroni correction, P_val=3.740e-01 stat=-1.681e+00\n",
      "wt v.s. ahk3: t-test independent samples with Bonferroni correction, P_val=1.637e-185 stat=-5.459e+01\n",
      "wt v.s. ahk4: t-test independent samples with Bonferroni correction, P_val=1.482e-249 stat=-7.451e+01\n"
     ]
    },
    {
     "data": {
      "image/png": "[encoded data removed]",
      "text/plain": [
       "<Figure size 432x288 with 1 Axes>"
      ]
     },
     "metadata": {
      "needs_background": "light"
     },
     "output_type": "display_data"
    }
   ],
   "source": [
    "#my_colors = ['#000000', '#0072B2', '#FF7F0E', '#ffd343']\n",
    "xvalues = [\"wt\", \"ahk2\", \"ahk3\", \"ahk4\"]\n",
    "palette = ['#000000', '#0072B2', '#FF7F0E', '#ffd343']\n",
    "ax = sns.boxplot(data=df, palette=palette).set_title('seed area')\n",
    "ax = sns.stripplot(data=df, palette=palette,\n",
    "              marker='o')\n",
    "add_stat_annotation(ax, data=df,\n",
    "                    box_pairs=[(\"wt\", \"ahk2\"), (\"wt\", \"ahk3\"), (\"wt\", \"ahk4\"), (\"ahk3\", \"ahk4\")],\n",
    "                    test='t-test_ind', text_format='full', loc='inside', verbose=2)\n",
    "\n",
    "ax.figure.savefig(\"areaCK.png\", dpi=400)"
   ]
  },
  {
   "cell_type": "code",
   "execution_count": null,
   "metadata": {},
   "outputs": [],
   "source": []
  },
  {
   "cell_type": "code",
   "execution_count": null,
   "metadata": {},
   "outputs": [],
   "source": []
  },
  {
   "cell_type": "code",
   "execution_count": null,
   "metadata": {},
   "outputs": [],
   "source": []
  }
 ],
 "metadata": {
  "kernelspec": {
   "display_name": "Python 3",
   "language": "python",
   "name": "python3"
  },
  "language_info": {
   "codemirror_mode": {
    "name": "ipython",
    "version": 3
   },
   "file_extension": ".py",
   "mimetype": "text/x-python",
   "name": "python",
   "nbconvert_exporter": "python",
   "pygments_lexer": "ipython3",
   "version": "3.7.6"
  }
 },
 "nbformat": 4,
 "nbformat_minor": 4
}
