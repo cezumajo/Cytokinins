{
 "cells": [
  {
   "cell_type": "code",
   "execution_count": 1,
   "metadata": {},
   "outputs": [],
   "source": [
    "import numpy as np\n",
    "import pandas as pd\n",
    "import matplotlib.pyplot as plt\n",
    "import seaborn as sns\n",
    "from scipy import stats\n",
    "import glob\n",
    "import scipy.stats as st\n",
    "import matplotlib.pyplot as plt\n",
    "from matplotlib.colors import LogNorm\n",
    "from scipy.stats import ttest_ind\n",
    "from statannot import add_stat_annotation"
   ]
  },
  {
   "cell_type": "code",
   "execution_count": 2,
   "metadata": {},
   "outputs": [],
   "source": [
    "df = pd.read_excel('embryo4dapCK.xlsx',sep='\\t') #load dataset "
   ]
  },
  {
   "cell_type": "code",
   "execution_count": 3,
   "metadata": {},
   "outputs": [
    {
     "data": {
      "text/html": [
       "<div>\n",
       "<style scoped>\n",
       "    .dataframe tbody tr th:only-of-type {\n",
       "        vertical-align: middle;\n",
       "    }\n",
       "\n",
       "    .dataframe tbody tr th {\n",
       "        vertical-align: top;\n",
       "    }\n",
       "\n",
       "    .dataframe thead th {\n",
       "        text-align: right;\n",
       "    }\n",
       "</style>\n",
       "<table border=\"1\" class=\"dataframe\">\n",
       "  <thead>\n",
       "    <tr style=\"text-align: right;\">\n",
       "      <th></th>\n",
       "      <th>wildtype</th>\n",
       "      <th>ahk2</th>\n",
       "      <th>ahk3</th>\n",
       "      <th>ahk4</th>\n",
       "    </tr>\n",
       "  </thead>\n",
       "  <tbody>\n",
       "    <tr>\n",
       "      <th>0</th>\n",
       "      <td>Globular</td>\n",
       "      <td>Octant</td>\n",
       "      <td>1cell</td>\n",
       "      <td>Octant</td>\n",
       "    </tr>\n",
       "    <tr>\n",
       "      <th>1</th>\n",
       "      <td>Globular</td>\n",
       "      <td>Octant</td>\n",
       "      <td>1cell</td>\n",
       "      <td>2cell</td>\n",
       "    </tr>\n",
       "    <tr>\n",
       "      <th>2</th>\n",
       "      <td>Globular</td>\n",
       "      <td>Octant</td>\n",
       "      <td>2cell</td>\n",
       "      <td>Globular</td>\n",
       "    </tr>\n",
       "    <tr>\n",
       "      <th>3</th>\n",
       "      <td>Octant</td>\n",
       "      <td>Octant</td>\n",
       "      <td>2cell</td>\n",
       "      <td>Octant</td>\n",
       "    </tr>\n",
       "    <tr>\n",
       "      <th>4</th>\n",
       "      <td>Globular</td>\n",
       "      <td>Octant</td>\n",
       "      <td>2cell</td>\n",
       "      <td>Octant</td>\n",
       "    </tr>\n",
       "  </tbody>\n",
       "</table>\n",
       "</div>"
      ],
      "text/plain": [
       "   wildtype    ahk2   ahk3      ahk4\n",
       "0  Globular  Octant  1cell    Octant\n",
       "1  Globular  Octant  1cell     2cell\n",
       "2  Globular  Octant  2cell  Globular\n",
       "3    Octant  Octant  2cell    Octant\n",
       "4  Globular  Octant  2cell    Octant"
      ]
     },
     "execution_count": 3,
     "metadata": {},
     "output_type": "execute_result"
    }
   ],
   "source": [
    "df.head()"
   ]
  },
  {
   "cell_type": "code",
   "execution_count": 4,
   "metadata": {},
   "outputs": [],
   "source": [
    "# Drop any rows with missing values\n",
    "df.dropna(inplace=True)\n",
    "# Calculate the total number of embryos at each time point\n",
    "total_embryos = df.iloc[:, 0:].count()\n",
    "\n",
    "# Calculate the frequency of each embryonic stage at each time point\n",
    "frequency_df = df.iloc[:, 0:].apply(lambda x: x.value_counts(normalize=True) * 100)\n",
    "\n"
   ]
  },
  {
   "cell_type": "code",
   "execution_count": 5,
   "metadata": {},
   "outputs": [
    {
     "data": {
      "image/png": "[encoded data removed]",
      "text/plain": [
       "<Figure size 720x432 with 1 Axes>"
      ]
     },
     "metadata": {
      "needs_background": "light"
     },
     "output_type": "display_data"
    }
   ],
   "source": [
    "sns.color_palette()\n",
    "sns.color_palette(\"colorblind\")\n",
    "\n",
    "# Transpose the frequency data for easier plotting\n",
    "frequency_df = frequency_df.T\n",
    "\n",
    "\n",
    "# Create the bar plot\n",
    "frequency_df.plot(kind='bar', stacked=True, figsize=(10, 6))\n",
    "bar_width = 0.03\n",
    "\n",
    "# Set the labels and title\n",
    "plt.xlabel('Days Post-Anthesis (DPA) ')\n",
    "plt.ylabel('Frequency (%)')\n",
    "plt.ylim(0, 100)\n",
    "plt.title('Frequency of Embryo Stages at 4DPA seeds')\n",
    "plt.xticks(rotation=0)\n",
    "\n",
    "# Show the legend\n",
    "plt.legend(title='Embryo Stages 4DAP', bbox_to_anchor=(1.01, 1), loc='upper left')\n",
    "\n",
    "# Show the plot\n",
    "plt.tight_layout()\n",
    "\n",
    "plt.savefig('CKembryo-4DAP.png',dpi=400)\n"
   ]
  },
  {
   "cell_type": "code",
   "execution_count": 6,
   "metadata": {},
   "outputs": [],
   "source": [
    "df2 = pd.read_excel('embryo6dapCK.xlsx',sep='\\t') #load dataset "
   ]
  },
  {
   "cell_type": "code",
   "execution_count": 7,
   "metadata": {},
   "outputs": [
    {
     "data": {
      "text/html": [
       "<div>\n",
       "<style scoped>\n",
       "    .dataframe tbody tr th:only-of-type {\n",
       "        vertical-align: middle;\n",
       "    }\n",
       "\n",
       "    .dataframe tbody tr th {\n",
       "        vertical-align: top;\n",
       "    }\n",
       "\n",
       "    .dataframe thead th {\n",
       "        text-align: right;\n",
       "    }\n",
       "</style>\n",
       "<table border=\"1\" class=\"dataframe\">\n",
       "  <thead>\n",
       "    <tr style=\"text-align: right;\">\n",
       "      <th></th>\n",
       "      <th>wildtype</th>\n",
       "      <th>ahk2</th>\n",
       "      <th>ahk3</th>\n",
       "      <th>ahk4</th>\n",
       "    </tr>\n",
       "  </thead>\n",
       "  <tbody>\n",
       "    <tr>\n",
       "      <th>0</th>\n",
       "      <td>Torpedo</td>\n",
       "      <td>Torpedo</td>\n",
       "      <td>Heart</td>\n",
       "      <td>Heart</td>\n",
       "    </tr>\n",
       "    <tr>\n",
       "      <th>1</th>\n",
       "      <td>Torpedo</td>\n",
       "      <td>Torpedo</td>\n",
       "      <td>Heart</td>\n",
       "      <td>Torpedo</td>\n",
       "    </tr>\n",
       "    <tr>\n",
       "      <th>2</th>\n",
       "      <td>Heart</td>\n",
       "      <td>Torpedo</td>\n",
       "      <td>Heart</td>\n",
       "      <td>Torpedo</td>\n",
       "    </tr>\n",
       "    <tr>\n",
       "      <th>3</th>\n",
       "      <td>Torpedo</td>\n",
       "      <td>Torpedo</td>\n",
       "      <td>Triangular</td>\n",
       "      <td>Torpedo</td>\n",
       "    </tr>\n",
       "    <tr>\n",
       "      <th>4</th>\n",
       "      <td>Heart</td>\n",
       "      <td>Heart</td>\n",
       "      <td>Heart</td>\n",
       "      <td>Torpedo</td>\n",
       "    </tr>\n",
       "  </tbody>\n",
       "</table>\n",
       "</div>"
      ],
      "text/plain": [
       "  wildtype     ahk2        ahk3     ahk4\n",
       "0  Torpedo  Torpedo       Heart    Heart\n",
       "1  Torpedo  Torpedo       Heart  Torpedo\n",
       "2    Heart  Torpedo       Heart  Torpedo\n",
       "3  Torpedo  Torpedo  Triangular  Torpedo\n",
       "4    Heart    Heart       Heart  Torpedo"
      ]
     },
     "execution_count": 7,
     "metadata": {},
     "output_type": "execute_result"
    }
   ],
   "source": [
    "df2.head()"
   ]
  },
  {
   "cell_type": "code",
   "execution_count": 8,
   "metadata": {},
   "outputs": [],
   "source": [
    "# Drop any rows with missing values\n",
    "df2.dropna(inplace=True)\n",
    "# Calculate the total number of embryos at each time point\n",
    "total_embryos = df2.iloc[:, 0:].count()\n",
    "\n",
    "# Calculate the frequency of each embryonic stage at each time point\n",
    "frequency_df2 = df2.iloc[:, 0:].apply(lambda x: x.value_counts(normalize=True) * 100)\n",
    "\n"
   ]
  },
  {
   "cell_type": "code",
   "execution_count": 9,
   "metadata": {},
   "outputs": [
    {
     "data": {
      "image/png": "[encoded data removed]",
      "text/plain": [
       "<Figure size 720x432 with 1 Axes>"
      ]
     },
     "metadata": {
      "needs_background": "light"
     },
     "output_type": "display_data"
    }
   ],
   "source": [
    "sns.color_palette()\n",
    "sns.color_palette(\"colorblind\")\n",
    "\n",
    "# Transpose the frequency data for easier plotting\n",
    "frequency_df2 = frequency_df2.T\n",
    "\n",
    "\n",
    "# Create the bar plot\n",
    "frequency_df2.plot(kind='bar', stacked=True, figsize=(10, 6))\n",
    "bar_width = 0.03\n",
    "\n",
    "# Set the labels and title\n",
    "plt.xlabel('Days Post-Anthesis (DPA) ')\n",
    "plt.ylabel('Frequency (%)')\n",
    "plt.ylim(0, 100)\n",
    "plt.title('Frequency of Embryo Stages at 6DPA seeds')\n",
    "plt.xticks(rotation=0)\n",
    "\n",
    "# Show the legend\n",
    "plt.legend(title='Embryo Stages 6DAP', bbox_to_anchor=(1.01, 1), loc='upper left')\n",
    "\n",
    "# Show the plot\n",
    "plt.tight_layout()\n",
    "\n",
    "plt.savefig('CKembryo-6DAP.png',dpi=400)"
   ]
  },
  {
   "cell_type": "code",
   "execution_count": null,
   "metadata": {},
   "outputs": [],
   "source": []
  }
 ],
 "metadata": {
  "kernelspec": {
   "display_name": "Python 3",
   "language": "python",
   "name": "python3"
  },
  "language_info": {
   "codemirror_mode": {
    "name": "ipython",
    "version": 3
   },
   "file_extension": ".py",
   "mimetype": "text/x-python",
   "name": "python",
   "nbconvert_exporter": "python",
   "pygments_lexer": "ipython3",
   "version": "3.7.6"
  }
 },
 "nbformat": 4,
 "nbformat_minor": 4
}
