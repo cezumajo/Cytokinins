{
 "cells": [
  {
   "cell_type": "code",
   "execution_count": 1,
   "metadata": {},
   "outputs": [],
   "source": [
    "import numpy as np\n",
    "import pandas as pd\n",
    "import seaborn as sns\n",
    "from scipy import stats\n",
    "import glob\n",
    "import scipy.stats as st\n",
    "import matplotlib.pyplot as plt\n",
    "from matplotlib.colors import LogNorm\n",
    "from scipy.stats import ttest_ind\n",
    "from statannot import add_stat_annotation\n",
    "import scipy.stats as sp"
   ]
  },
  {
   "cell_type": "code",
   "execution_count": 2,
   "metadata": {},
   "outputs": [],
   "source": [
    "df = pd.read_excel('Embryo-Areas.xlsx',sep='\\t') #load dataset "
   ]
  },
  {
   "cell_type": "code",
   "execution_count": 3,
   "metadata": {},
   "outputs": [
    {
     "data": {
      "text/html": [
       "<div>\n",
       "<style scoped>\n",
       "    .dataframe tbody tr th:only-of-type {\n",
       "        vertical-align: middle;\n",
       "    }\n",
       "\n",
       "    .dataframe tbody tr th {\n",
       "        vertical-align: top;\n",
       "    }\n",
       "\n",
       "    .dataframe thead th {\n",
       "        text-align: right;\n",
       "    }\n",
       "</style>\n",
       "<table border=\"1\" class=\"dataframe\">\n",
       "  <thead>\n",
       "    <tr style=\"text-align: right;\">\n",
       "      <th></th>\n",
       "      <th>Genotype</th>\n",
       "      <th>Embryo</th>\n",
       "      <th>Area</th>\n",
       "    </tr>\n",
       "  </thead>\n",
       "  <tbody>\n",
       "    <tr>\n",
       "      <th>0</th>\n",
       "      <td>wt</td>\n",
       "      <td>Heart</td>\n",
       "      <td>6986.267</td>\n",
       "    </tr>\n",
       "    <tr>\n",
       "      <th>1</th>\n",
       "      <td>wt</td>\n",
       "      <td>Heart</td>\n",
       "      <td>7955.125</td>\n",
       "    </tr>\n",
       "    <tr>\n",
       "      <th>2</th>\n",
       "      <td>wt</td>\n",
       "      <td>Heart</td>\n",
       "      <td>7773.734</td>\n",
       "    </tr>\n",
       "    <tr>\n",
       "      <th>3</th>\n",
       "      <td>wt</td>\n",
       "      <td>Heart</td>\n",
       "      <td>7381.138</td>\n",
       "    </tr>\n",
       "    <tr>\n",
       "      <th>4</th>\n",
       "      <td>wt</td>\n",
       "      <td>Heart</td>\n",
       "      <td>6190.778</td>\n",
       "    </tr>\n",
       "  </tbody>\n",
       "</table>\n",
       "</div>"
      ],
      "text/plain": [
       "  Genotype Embryo      Area\n",
       "0       wt  Heart  6986.267\n",
       "1       wt  Heart  7955.125\n",
       "2       wt  Heart  7773.734\n",
       "3       wt  Heart  7381.138\n",
       "4       wt  Heart  6190.778"
      ]
     },
     "execution_count": 3,
     "metadata": {},
     "output_type": "execute_result"
    }
   ],
   "source": [
    "df.head()"
   ]
  },
  {
   "cell_type": "code",
   "execution_count": 4,
   "metadata": {},
   "outputs": [
    {
     "data": {
      "image/png": "[encoded data removed]",
      "text/plain": [
       "<Figure size 432x288 with 1 Axes>"
      ]
     },
     "metadata": {
      "needs_background": "light"
     },
     "output_type": "display_data"
    }
   ],
   "source": [
    "#boxplots to calculate t-test \n",
    "\n",
    "#my_colors = {'2xX2x': '#0072B2', '2xX4x': '#FF7F0E', '4xX2x': 'FFF80E'}\n",
    "\n",
    "xvalues = [\"wt\", \"ahk2\", \"ahk3\", \"ahk4\"]\n",
    "palette = ['#000000', '#0072B2', '#FF7F0E', '#ffd343']\n",
    "\n",
    "ax = sns.boxplot(x=\"Embryo\", y=\"Area\", hue=\"Genotype\", palette=palette, order=[\"Octant\", \"Heart\", \"Torpedo\"],              \n",
    "data=df).set_title('Embryo size by stage')\n",
    "ax = sns.stripplot(x=\"Embryo\", y=\"Area\", dodge=True,\n",
    "              data=df, \n",
    "              hue=\"Genotype\",\n",
    "              marker='o', \n",
    "              palette=palette,\n",
    "              alpha=0.5)\n",
    "\n",
    "#add_stat_annotation(ax, data=df, x=\"days\", y=\"seed area\", hue=\"genotype\", #To add a t-test\n",
    "                   # box_pairs=[((\"four \", \"wildtype\"), (\"four \", \"ahk2\")),\n",
    "                            # ((\"four \", \"wildtype\"), (\"four \", \"ahk3\")),\n",
    "                            # ((\"four \" , \"wildtype\"), (\"four \", \"ahk4\")),\n",
    "                            # ((\"six\", \"wildtype\"), (\"six\", \"ahk2\")),\n",
    "                            # ((\"six\", \"wildtype\"), (\"six\", \"ahk3\")),\n",
    "                            # ((\"six\", \"wildtype\"), (\"six\", \"ahk4\")),], \n",
    "                  #  test='t-test_ind', text_format='star', loc='inside', verbose=2)\n",
    "\n",
    "#place the lengend outside on the topleft \n",
    "handles, labels = ax.get_legend_handles_labels()\n",
    "plt.legend(handles[0:4], labels[0:4], bbox_to_anchor=(1.01, 1), loc=2, borderaxespad=0.)\n",
    "\n",
    "ax.figure.savefig(\"boxplot-Embryosize-stage.png\", dpi=300, bbox_inches='tight')"
   ]
  },
  {
   "cell_type": "code",
   "execution_count": null,
   "metadata": {},
   "outputs": [],
   "source": []
  }
 ],
 "metadata": {
  "kernelspec": {
   "display_name": "Python 3",
   "language": "python",
   "name": "python3"
  },
  "language_info": {
   "codemirror_mode": {
    "name": "ipython",
    "version": 3
   },
   "file_extension": ".py",
   "mimetype": "text/x-python",
   "name": "python",
   "nbconvert_exporter": "python",
   "pygments_lexer": "ipython3",
   "version": "3.7.6"
  }
 },
 "nbformat": 4,
 "nbformat_minor": 4
}
