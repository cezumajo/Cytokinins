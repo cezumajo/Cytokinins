{
 "cells": [
  {
   "cell_type": "code",
   "execution_count": 1,
   "metadata": {},
   "outputs": [],
   "source": [
    "import numpy as np\n",
    "import pandas as pd\n",
    "import matplotlib.pyplot as plt\n",
    "import pylab as plt\n",
    "import seaborn as sns\n",
    "from scipy import stats\n",
    "import glob\n",
    "import scipy.stats as st\n",
    "import matplotlib.pyplot as plt\n",
    "from matplotlib.colors import LogNorm\n",
    "from scipy.stats import ttest_ind\n",
    "from statannot import add_stat_annotation"
   ]
  },
  {
   "cell_type": "code",
   "execution_count": 29,
   "metadata": {},
   "outputs": [
    {
     "data": {
      "image/png": "[encoded data removed]",
      "text/plain": [
       "<Figure size 792x360 with 1 Axes>"
      ]
     },
     "metadata": {
      "needs_background": "light"
     },
     "output_type": "display_data"
    }
   ],
   "source": [
    "# A python dictionary\n",
    "\n",
    "data = {\"X 2x\":[9, 71, 70.5, 76.6],\n",
    "\n",
    "        \"X 4x\":[81, 85, 89, 95.5]\n",
    "\n",
    "        }\n",
    "c = ['#0072B2', '#FF7F0E']\n",
    "index     = [\"2x\", \"ahk2\", \"ahk3\", \"ahk4\"]\n",
    "\n",
    "\n",
    "# Dictionary loaded into a DataFrame       \n",
    "\n",
    "dataFrame = pd.DataFrame(data=data, index=index)\n",
    "\n",
    "\n",
    "# Draw a vertical bar chart\n",
    "\n",
    "dataFrame.plot(kind='bar', color = c, figsize=(11, 5))\n",
    "\n",
    "# Set the labels and title\n",
    "plt.xlabel('Genotype ')\n",
    "plt.ylabel('Percentage (%)')\n",
    "plt.ylim(0, 100)\n",
    "plt.title('Percentage of abortions in each genotype at 3DAP')\n",
    "plt.xticks(rotation=0)\n",
    "\n",
    "# Show the legend\n",
    "plt.legend(title='Crossed with', bbox_to_anchor=(1, 1), loc='upper left')\n",
    "\n",
    "plt.savefig('Percentage of abortions 3DAP',dpi=400)\n",
    "\n",
    "\n",
    "#plot.legend(bbox_to_anchor=(1.02, 1), loc='upper left', borderaxespad=0)\n",
    "#plot.savefig(\"EmbryoCK_barplot.png\", dpi=300, bbox_inches='tight')\n",
    "\n",
    "\n",
    "\n",
    "#plot.show(block=True);"
   ]
  },
  {
   "cell_type": "code",
   "execution_count": null,
   "metadata": {},
   "outputs": [],
   "source": []
  },
  {
   "cell_type": "code",
   "execution_count": null,
   "metadata": {},
   "outputs": [],
   "source": []
  },
  {
   "cell_type": "code",
   "execution_count": null,
   "metadata": {},
   "outputs": [],
   "source": []
  }
 ],
 "metadata": {
  "kernelspec": {
   "display_name": "Python 3",
   "language": "python",
   "name": "python3"
  },
  "language_info": {
   "codemirror_mode": {
    "name": "ipython",
    "version": 3
   },
   "file_extension": ".py",
   "mimetype": "text/x-python",
   "name": "python",
   "nbconvert_exporter": "python",
   "pygments_lexer": "ipython3",
   "version": "3.7.6"
  }
 },
 "nbformat": 4,
 "nbformat_minor": 4
}
